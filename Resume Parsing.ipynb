{
 "cells": [
  {
   "cell_type": "code",
   "execution_count": 1,
   "metadata": {},
   "outputs": [],
   "source": [
    "import docx2txt\n",
    "import regex as re\n",
    "import numpy as np"
   ]
  },
  {
   "cell_type": "code",
   "execution_count": 2,
   "metadata": {},
   "outputs": [],
   "source": [
    "text=docx2txt.process(\"12+.docx\")"
   ]
  },
  {
   "cell_type": "code",
   "execution_count": 3,
   "metadata": {},
   "outputs": [
    {
     "data": {
      "text/plain": [
       "'sandeep.dasc1@gmail.com'"
      ]
     },
     "execution_count": 3,
     "metadata": {},
     "output_type": "execute_result"
    }
   ],
   "source": [
    "re.findall(\"[A-Za-z0-9_\\.\\-]+[@][a-z]+[\\.][a-z]{2,3}\",text)[0]"
   ]
  },
  {
   "cell_type": "code",
   "execution_count": 4,
   "metadata": {},
   "outputs": [],
   "source": [
    "import os"
   ]
  },
  {
   "cell_type": "code",
   "execution_count": 5,
   "metadata": {},
   "outputs": [],
   "source": [
    "path=os.listdir(r\"Resumes/\")"
   ]
  },
  {
   "cell_type": "code",
   "execution_count": 6,
   "metadata": {},
   "outputs": [],
   "source": [
    "gmail_id=[]\n",
    "for i in (path):\n",
    "    text2=docx2txt.process(r\"Resumes/\"+i)\n",
    "\n",
    "    if (len(re.findall(\"[A-Za-z0-9_\\.\\-]+[@][a-z]+[\\.][a-z]{2,3}\",text2)))>0:\n",
    "        gmail_id_found=(re.findall(\"[A-Za-z0-9_\\.\\-]+[@][a-z]+[\\.][a-z]{2,3}\",text2))\n",
    "        if (len(gmail_id_found)>1):\n",
    "            del(gmail_id_found[1])\n",
    "            gmail_id.extend(gmail_id_found)\n",
    "        else:\n",
    "            continue\n",
    "\n",
    "    else:\n",
    "        gmail_id.append(np.NaN)"
   ]
  },
  {
   "cell_type": "code",
   "execution_count": 7,
   "metadata": {},
   "outputs": [
    {
     "data": {
      "text/plain": [
       "[nan, 'sandeep.dasc1@gmail.com', nan, nan, nan, nan]"
      ]
     },
     "execution_count": 7,
     "metadata": {},
     "output_type": "execute_result"
    }
   ],
   "source": [
    "(gmail_id)"
   ]
  },
  {
   "cell_type": "code",
   "execution_count": 8,
   "metadata": {},
   "outputs": [
    {
     "data": {
      "text/plain": [
       "[]"
      ]
     },
     "execution_count": 8,
     "metadata": {},
     "output_type": "execute_result"
    }
   ],
   "source": [
    "(re.findall(\"[A-Za-z0-9_\\.\\-]+[@][a-z]+[\\.][a-z]{2,3}\",text2))"
   ]
  },
  {
   "cell_type": "code",
   "execution_count": 9,
   "metadata": {},
   "outputs": [],
   "source": [
    "# www.linkedin.com/in/pulavarthy-s-321a92152/"
   ]
  },
  {
   "cell_type": "code",
   "execution_count": 10,
   "metadata": {},
   "outputs": [],
   "source": [
    "linkedin_id=[]\n",
    "for i in (path):\n",
    "    text2=docx2txt.process(r\"Resumes/\"+i)\n",
    "\n",
    "    if (len(re.findall(\"\\w{3}[\\.]\\w{8}[\\.]\\w{3}[\\/]\\w+[\\/]\\w+[\\-]\\w+[\\-]\\w+[\\/]\",text2)))>0:\n",
    "        linkedin_id_found=(re.findall(\"[A-Za-z0-9_\\.\\-]+[@][a-z]+[\\.][a-z]{2,3}\",text2))\n",
    "        if (len(linkedin_id_found)>1):\n",
    "            del(linkedin_id_found[1])\n",
    "            linkedin_id.extend(gmail_id_found)\n",
    "        else:\n",
    "            continue\n",
    "\n",
    "    else:\n",
    "        linkedin_id.append(np.NaN)"
   ]
  },
  {
   "cell_type": "code",
   "execution_count": 11,
   "metadata": {},
   "outputs": [
    {
     "data": {
      "text/plain": [
       "['www.linkedin.com/in/pulavarthy-s-321a92152/',\n",
       " 'www.linkedin.com/in/pulavarthy-s-321a92152/']"
      ]
     },
     "execution_count": 11,
     "metadata": {},
     "output_type": "execute_result"
    }
   ],
   "source": [
    "re.findall(\"\\w{3}[\\.]\\w{8}[\\.]\\w{3}[\\/]\\w+[\\/]\\w+[\\-]\\w+[\\-]\\w+[\\/]\",text)"
   ]
  },
  {
   "cell_type": "code",
   "execution_count": 12,
   "metadata": {},
   "outputs": [],
   "source": [
    "# www.linkedin.com/in/pulavarthy-s-321a92152/"
   ]
  },
  {
   "cell_type": "code",
   "execution_count": 13,
   "metadata": {},
   "outputs": [
    {
     "data": {
      "text/plain": [
       "[nan, 'sandeep.dasc1@gmail.com', nan, nan, nan, nan]"
      ]
     },
     "execution_count": 13,
     "metadata": {},
     "output_type": "execute_result"
    }
   ],
   "source": [
    "linkedin_id"
   ]
  },
  {
   "cell_type": "code",
   "execution_count": 14,
   "metadata": {},
   "outputs": [],
   "source": [
    "github_url=[]\n",
    "for i in (path):\n",
    "    text2=docx2txt.process(r\"Resumes/\"+i)\n",
    "\n",
    "    if (len(re.findall(\"\\w{4,5}[:][\\/][\\/]\\w+[\\.]\\w{3}[\\/]\\w+\",text2)))>0:\n",
    "        github_url_found=(re.findall(\"\\w{4,5}[:][\\/][\\/]\\w+[\\.]\\w{3}[\\/]\\w+\",text2))\n",
    "        if (len(github_url_found)>1):\n",
    "            del(github_url_found[1])\n",
    "            github_url.extend(github_url_found)\n",
    "        else:\n",
    "            continue\n",
    "\n",
    "    else:\n",
    "        github_url.append(np.NaN)"
   ]
  },
  {
   "cell_type": "code",
   "execution_count": 15,
   "metadata": {},
   "outputs": [
    {
     "data": {
      "text/plain": [
       "[nan, 'https://github.com/sandeepdasc1', nan, nan, nan]"
      ]
     },
     "execution_count": 15,
     "metadata": {},
     "output_type": "execute_result"
    }
   ],
   "source": [
    "github_url"
   ]
  },
  {
   "cell_type": "code",
   "execution_count": 16,
   "metadata": {},
   "outputs": [],
   "source": [
    "#https://github.com/sandeepdasc1"
   ]
  },
  {
   "cell_type": "code",
   "execution_count": 17,
   "metadata": {},
   "outputs": [
    {
     "data": {
      "text/plain": [
       "['https://github.com/sandeepdasc1', 'https://github.com/sandeepdasc1']"
      ]
     },
     "execution_count": 17,
     "metadata": {},
     "output_type": "execute_result"
    }
   ],
   "source": [
    "re.findall(\"\\w{4,5}[:][\\/][\\/]\\w+[\\.]\\w{3}[\\/]\\w+\",text)"
   ]
  },
  {
   "cell_type": "code",
   "execution_count": null,
   "metadata": {},
   "outputs": [],
   "source": []
  }
 ],
 "metadata": {
  "kernelspec": {
   "display_name": "Python 3",
   "language": "python",
   "name": "python3"
  },
  "language_info": {
   "codemirror_mode": {
    "name": "ipython",
    "version": 3
   },
   "file_extension": ".py",
   "mimetype": "text/x-python",
   "name": "python",
   "nbconvert_exporter": "python",
   "pygments_lexer": "ipython3",
   "version": "3.7.3"
  }
 },
 "nbformat": 4,
 "nbformat_minor": 2
}
